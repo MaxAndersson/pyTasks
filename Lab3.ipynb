{
 "cells": [
  {
   "cell_type": "code",
   "execution_count": 1,
   "metadata": {
    "collapsed": true
   },
   "outputs": [],
   "source": [
    "import os\n",
    "import swiftclient.client\n",
    "config = {'user':os.environ['OS_USERNAME'], \n",
    "          'key':os.environ['OS_PASSWORD'],\n",
    "          'tenant_name':os.environ['OS_TENANT_NAME'],\n",
    "          'authurl':os.environ['OS_AUTH_URL']}\n",
    "\n",
    "conn = swiftclient.client.Connection(auth_version=2, **config)\n"
   ]
  },
  {
   "cell_type": "code",
   "execution_count": 2,
   "metadata": {
    "collapsed": true
   },
   "outputs": [],
   "source": [
    "config = {'username':os.environ['OS_USERNAME'], \n",
    "          'api_key':os.environ['OS_PASSWORD'],\n",
    "          'project_id':os.environ['OS_TENANT_NAME'],\n",
    "          'auth_url':os.environ['OS_AUTH_URL'],\n",
    "           }\n",
    "from novaclient.client import Client\n",
    "nc = Client('2',**config)"
   ]
  },
  {
   "cell_type": "code",
   "execution_count": 3,
   "metadata": {
    "collapsed": false
   },
   "outputs": [
    {
     "name": "stderr",
     "output_type": "stream",
     "text": [
      "/Library/Python/2.7/site-packages/keystoneclient/service_catalog.py:196: UserWarning: Providing attr without filter_value to get_urls() is deprecated as of the 1.7.0 release and may be removed in the 2.0.0 release. Either both should be provided or neither should be provided.\n",
      "  'Providing attr without filter_value to get_urls() is '\n"
     ]
    }
   ],
   "source": [
    "# List containers\n",
    "(response, bucket_list) = conn.get_account()\n",
    "(response, bucket) = conn.get_container('tweets')\n",
    "filenames = [obj['name'] for obj in bucket]\n",
    "\n"
   ]
  },
  {
   "cell_type": "code",
   "execution_count": 6,
   "metadata": {
    "collapsed": true
   },
   "outputs": [],
   "source": [
    "searchwords = ['han','hon','den','det','denna','denne','hen']\n"
   ]
  },
  {
   "cell_type": "code",
   "execution_count": 5,
   "metadata": {
    "collapsed": false
   },
   "outputs": [
    {
     "name": "stdout",
     "output_type": "stream",
     "text": [
      "aKey m1.medium Ubuntu Server 14.04 LTS (Trusty Tahr)\n"
     ]
    }
   ],
   "source": [
    "serverName = 'ChocolateFactory'\n",
    "aKey = 'aKey'\n",
    "keyPair = nc.keypairs.find(name = aKey)\n",
    "flavor =  nc.flavors.find(name = 'm1.medium')\n",
    "image = nc.images.find(name = 'Ubuntu Server 14.04 LTS (Trusty Tahr)')\n",
    "print keyPair.name, flavor.name, image.name"
   ]
  },
  {
   "cell_type": "code",
   "execution_count": 7,
   "metadata": {
    "collapsed": false
   },
   "outputs": [
    {
     "name": "stdout",
     "output_type": "stream",
     "text": [
      "ChocolateFactory\n"
     ]
    }
   ],
   "source": [
    "server = nc.servers.create(serverName,\n",
    "                           image,\n",
    "                           flavor,\n",
    "                           key_name = keyPair.name\n",
    "                          )\n",
    "print server.name\n",
    "\n"
   ]
  },
  {
   "cell_type": "code",
   "execution_count": 8,
   "metadata": {
    "collapsed": false
   },
   "outputs": [
    {
     "name": "stdout",
     "output_type": "stream",
     "text": [
      "<FloatingIP fixed_ip=None, id=ad671f13-cf74-4547-9700-b35af48d65cc, instance_id=None, ip=130.238.29.88, pool=ext-net>\n",
      "ip=130.238.29.88\n"
     ]
    }
   ],
   "source": [
    "try:\n",
    "    try:\n",
    "        floating_ip = [ip for ip in nc.floating_ips.list() if ip.instance_id == None ].pop()\n",
    "        print floating_ip\n",
    "    except Exception:\n",
    "        pass\n",
    "    if floating_ip is None :\n",
    "        floating_ip = nc.floating_ips.create('ext-net')\n",
    "    server.add_floating_ip(floating_ip)\n",
    "    print \"ip={0}\".format(floating_ip.ip)\n",
    "except Exception as e:\n",
    "    raise Exception(\"Failed to attach a floating IP to the controller.\\n{0}\".format(e))"
   ]
  },
  {
   "cell_type": "code",
   "execution_count": null,
   "metadata": {
    "collapsed": false
   },
   "outputs": [],
   "source": [
    "import paramiko\n",
    "from paramiko import SSHClient as client \n",
    "ip = floating_ip.ip\n",
    "try:\n",
    "    ssh = client()\n",
    "    ssh.set_missing_host_key_policy(\n",
    "       paramiko.AutoAddPolicy())\n",
    "    ssh.connect(ip,\n",
    "            username = 'ubuntu',\n",
    "            key_filename ='akey.pem')\n",
    "except Exception as e:\n",
    "    print e\n",
    "commands = [\n",
    "            'sudo apt-get update -y',\n",
    "            'sudo apt-get install git -y',\n",
    "            'sudo apt-get install python-pip -y',\n",
    "            'sudo pip install Flask',\n",
    "            'sudo apt-get install rabbitmq-server -y',\n",
    "            'sudo pip install celery'\n",
    "           ]\n",
    "for command in commands:\n",
    "    try:\n",
    "        print 'EXECUTEING: {}'.format(command)\n",
    "        (stdin,stdout,stderr) = ssh.exec_command(command)\n",
    "        print stdout.read()\n",
    "        print stderr.read()\n",
    "        \n",
    "    except Exception as e:\n",
    "        print e"
   ]
  },
  {
   "cell_type": "code",
   "execution_count": null,
   "metadata": {
    "collapsed": false
   },
   "outputs": [],
   "source": [
    "# Terminate all your running instances\n",
    "server = nc.servers.find(name = serverName)\n",
    "server.delete()\n",
    "print server"
   ]
  },
  {
   "cell_type": "code",
   "execution_count": null,
   "metadata": {
    "collapsed": true
   },
   "outputs": [],
   "source": []
  }
 ],
 "metadata": {
  "kernelspec": {
   "display_name": "Python 2",
   "language": "python",
   "name": "python2"
  },
  "language_info": {
   "codemirror_mode": {
    "name": "ipython",
    "version": 2
   },
   "file_extension": ".py",
   "mimetype": "text/x-python",
   "name": "python",
   "nbconvert_exporter": "python",
   "pygments_lexer": "ipython2",
   "version": "2.7.10"
  }
 },
 "nbformat": 4,
 "nbformat_minor": 0
}
