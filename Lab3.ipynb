{
 "cells": [
  {
   "cell_type": "code",
   "execution_count": 1,
   "metadata": {
    "collapsed": false
   },
   "outputs": [],
   "source": [
    "import os\n",
    "import swiftclient.client\n",
    "config = {'user':os.environ['OS_USERNAME'], \n",
    "          'key':os.environ['OS_PASSWORD'],\n",
    "          'tenant_name':os.environ['OS_TENANT_NAME'],\n",
    "          'authurl':os.environ['OS_AUTH_URL']}\n",
    "\n",
    "conn = swiftclient.client.Connection(auth_version=2, **config)\n"
   ]
  },
  {
   "cell_type": "code",
   "execution_count": 2,
   "metadata": {
    "collapsed": true
   },
   "outputs": [],
   "source": [
    "config = {'username':os.environ['OS_USERNAME'], \n",
    "          'api_key':os.environ['OS_PASSWORD'],\n",
    "          'project_id':os.environ['OS_TENANT_NAME'],\n",
    "          'auth_url':os.environ['OS_AUTH_URL'],\n",
    "           }\n",
    "from novaclient.client import Client\n",
    "nc = Client('2',**config)"
   ]
  },
  {
   "cell_type": "code",
   "execution_count": 3,
   "metadata": {
    "collapsed": false
   },
   "outputs": [
    {
     "name": "stderr",
     "output_type": "stream",
     "text": [
      "/Library/Python/2.7/site-packages/keystoneclient/service_catalog.py:196: UserWarning: Providing attr without filter_value to get_urls() is deprecated as of the 1.7.0 release and may be removed in the 2.0.0 release. Either both should be provided or neither should be provided.\n",
      "  'Providing attr without filter_value to get_urls() is '\n"
     ]
    }
   ],
   "source": [
    "# List containers\n",
    "cont = 'tweets'\n",
    "(response, bucket_list) = conn.get_account()\n",
    "(response, bucket) = conn.get_container(cont)\n",
    "filenames = [obj['name'] for obj in bucket]\n",
    "\n"
   ]
  },
  {
   "cell_type": "code",
   "execution_count": null,
   "metadata": {
    "collapsed": false
   },
   "outputs": [],
   "source": [
    "#searchwords = [('han',0),('hon',0),('den',0),('det',0),('denna',0),('denne',0),('hen',0)]\n",
    "searchwords = ['han','hon','den','det','denna','denne','hen']"
   ]
  },
  {
   "cell_type": "code",
   "execution_count": 4,
   "metadata": {
    "collapsed": false
   },
   "outputs": [
    {
     "name": "stdout",
     "output_type": "stream",
     "text": [
      "aKey m1.medium Ubuntu Server 14.04 LTS (Trusty Tahr)\n"
     ]
    }
   ],
   "source": [
    "serverName = 'ChocolateFactory'\n",
    "aKey = 'aKey'\n",
    "keyPair = nc.keypairs.find(name = aKey)\n",
    "flavor =  nc.flavors.find(name = 'm1.medium')\n",
    "image = nc.images.find(name = 'Ubuntu Server 14.04 LTS (Trusty Tahr)')\n",
    "print keyPair.name, flavor.name, image.name"
   ]
  },
  {
   "cell_type": "code",
   "execution_count": 5,
   "metadata": {
    "collapsed": false
   },
   "outputs": [
    {
     "name": "stdout",
     "output_type": "stream",
     "text": [
      "ChocolateFactory\n"
     ]
    }
   ],
   "source": [
    "try:\n",
    "    server = nc.servers.find(name = serverName)\n",
    "except Exception as e:\n",
    "    print e\n",
    "    try:\n",
    "        server = nc.servers.create(serverName,\n",
    "                                   image,\n",
    "                                   flavor,\n",
    "                                   key_name = keyPair.name\n",
    "                                  )\n",
    "    except Exception as e:\n",
    "        raise Exception(\"Failed to create server.\\n{0}\".format(e))\n",
    "    pass\n",
    "print server.name\n",
    "\n"
   ]
  },
  {
   "cell_type": "code",
   "execution_count": 6,
   "metadata": {
    "collapsed": false
   },
   "outputs": [
    {
     "name": "stdout",
     "output_type": "stream",
     "text": [
      "130.238.29.90\n"
     ]
    }
   ],
   "source": [
    "try:\n",
    "    floating_ip = [ip for ip in nc.floating_ips.list() if ip.instance_id == server.id ].pop().ip\n",
    "    print floating_ip\n",
    "except:\n",
    "    pass\n"
   ]
  },
  {
   "cell_type": "code",
   "execution_count": null,
   "metadata": {
    "collapsed": false
   },
   "outputs": [],
   "source": [
    "floating_ip = None\n",
    "try:\n",
    "    try:\n",
    "        floating_ip = [ip for ip in nc.floating_ips.list() if ip.instance_id == server.id ].pop()\n",
    "        print floating_ip.ip\n",
    "    except Exception:\n",
    "        pass\n",
    "    if floating_ip is None :\n",
    "        floating_ip = nc.floating_ips.create('ext-net')\n",
    "    server.add_floating_ip(floating_ip.ip)\n",
    "    print \"ip={0}\".format(floating_ip.ip)\n",
    "except Exception as e:\n",
    "    raise Exception(\"Failed to attach a floating IP to the controller.\\n{0}\".format(e))"
   ]
  },
  {
   "cell_type": "code",
   "execution_count": null,
   "metadata": {
    "collapsed": false
   },
   "outputs": [],
   "source": [
    "import paramiko\n",
    "from paramiko import SSHClient as client \n",
    "ip = floating_ip.ip\n",
    "try:\n",
    "    ssh = client()\n",
    "    ssh.set_missing_host_key_policy(\n",
    "       paramiko.AutoAddPolicy())\n",
    "    ssh.connect(ip,\n",
    "            username = 'ubuntu',\n",
    "            key_filename ='akey.pem')\n",
    "except Exception as e:\n",
    "    print e\n",
    "commands = [\n",
    "            'sudo apt-get update -y',\n",
    "            'sudo apt-get install git -y',\n",
    "            'sudo apt-get install python-pip -y',\n",
    "            'sudo pip install Flask',\n",
    "            'sudo apt-get install rabbitmq-server -y',\n",
    "            'sudo pip install celery',\n",
    "            'git clone https://github.com/MaxAndersson/pyTasks.git',\n",
    "            'cd pyTasks',\n",
    "            'celery worker -A tasks'\n",
    "            'python app.py > /dev/null 2>&1 &'\n",
    "           ]\n",
    "for command in commands:\n",
    "    try:\n",
    "        print 'EXECUTEING: {}'.format(command)\n",
    "        (stdin,stdout,stderr) = ssh.exec_command(command)\n",
    "        print stdout.read()\n",
    "        print stderr.read()\n",
    "        \n",
    "    except Exception as e:\n",
    "        print e"
   ]
  },
  {
   "cell_type": "code",
   "execution_count": null,
   "metadata": {
    "collapsed": false
   },
   "outputs": [],
   "source": [
    " a =  [(file['name'],file['bytes']) for file in bucket ]\n",
    "\n",
    "for line in a:\n",
    "    print line[0],'size:',line[1]/2**20, 'Mb'\n",
    "\n",
    "    #conn.service.download(cont,['tweets_19.txt'])\n",
    "\n",
    "\n",
    "        "
   ]
  },
  {
   "cell_type": "code",
   "execution_count": null,
   "metadata": {
    "collapsed": false
   },
   "outputs": [],
   "source": [
    "BROKER_URL = 'amqp://guest:guest@{}:5672//'.format(ip.ip)\n",
    "print BROKER_URL"
   ]
  },
  {
   "cell_type": "code",
   "execution_count": null,
   "metadata": {
    "collapsed": false
   },
   "outputs": [],
   "source": [
    "import json\n",
    "import numpy as np\n",
    "\n",
    "searchwords = [['han',0],['hon',0],['den',0],['det',0],['denna',0],['denne',0],['hen',0]]\n",
    "\n",
    "\n",
    "tweets = np.array([])\n",
    "\n",
    "#rows = len(tweets)\n",
    "#print rows\n",
    "#for i in range(0,rows):\n",
    "with open('tweets_19.txt') as lines:\n",
    "    for line in lines:\n",
    "        if line != '\\n':\n",
    "            tweets = np.append(tweets,json.loads(line))\n",
    "    \n",
    "for tweet in tweets:\n",
    "    if tweet['text'][:2] == 'RT':\n",
    "        print tweet['text']\n",
    "        for word in searchwords:\n",
    "            aCount = tweet['text'].count(word[0])\n",
    "            if aCount != 0:\n",
    "                word[1] = word[1] + aCount\n",
    "                \n",
    "                \n",
    "print searchwords\n"
   ]
  },
  {
   "cell_type": "code",
   "execution_count": null,
   "metadata": {
    "collapsed": true
   },
   "outputs": [],
   "source": [
    "import urllib2\n",
    "def downloadFile(name):\n",
    "    url = \"http://smog.uppmax.uu.se:8080/swift/v1/tweets/{}\".format(name)\n",
    "\n",
    "    file_name = url.split('/')[-1]\n",
    "    u = urllib2.urlopen(url)\n",
    "    f = open(file_name, 'wb')\n",
    "    meta = u.info()\n",
    "    file_size = int(meta.getheaders(\"Content-Length\")[0])\n",
    "    print \"Downloading: %s Bytes: %s\" % (file_name, file_size)\n",
    "\n",
    "    file_size_dl = 0\n",
    "    block_sz = 8192\n",
    "    while True:\n",
    "        buffer = u.read(block_sz)\n",
    "        if not buffer:\n",
    "            break\n",
    "\n",
    "        file_size_dl += len(buffer)\n",
    "        f.write(buffer)\n",
    "        status = r\"%10d  [%3.2f%%]\" % (file_size_dl, file_size_dl * 100. / file_size)\n",
    "        status = status + chr(8)*(len(status)+1)\n",
    "        print status,\n",
    "\n",
    "    f.close()\n",
    "    return file_name"
   ]
  },
  {
   "cell_type": "code",
   "execution_count": null,
   "metadata": {
    "collapsed": false
   },
   "outputs": [],
   "source": [
    "import json\n",
    "def countMentionInTweetFile(aFile,words):\n",
    "    \n",
    "    searchwords = [[word, 0] for word in words]\n",
    "   \n",
    "        #downloadFile(aFile),'r')\n",
    "    with open(aFile,'r') as lines:\n",
    "        for line in lines:\n",
    "            if line != '/n':\n",
    "                tweet = json.loads(line)\n",
    "          \n",
    "                if tweet['text'][:2] == 'RT':\n",
    "                    #print tweet['text']\n",
    "                    for word in searchwords:\n",
    "                        word[1] = word[1] + tweet['text'].count(word[0])\n",
    "        \n",
    "    return searchwords"
   ]
  },
  {
   "cell_type": "code",
   "execution_count": null,
   "metadata": {
    "collapsed": false
   },
   "outputs": [],
   "source": [
    "import json\n",
    "def countMentionInTweetFile(aFile,words):\n",
    "    searchwords = [[word, 0] for word in words]\n",
    "\n",
    "    with open(aFile,'r') as lines:\n",
    "        for line in lines:\n",
    "            if line != '\\n':\n",
    "                tweet = json.loads(line)\n",
    "                if tweet['text'][:2] != 'RT':\n",
    "                    #print tweet['text']\n",
    "                    for word in searchwords:\n",
    "                        word[1] = word[1] + tweet['text'].count(word[0])\n",
    "    return json.dumps(dict(searchwords), indent = 4)"
   ]
  },
  {
   "cell_type": "code",
   "execution_count": null,
   "metadata": {
    "collapsed": false
   },
   "outputs": [],
   "source": [
    "searchwords = ['han','hon','den','det','denna','denne','hen']\n",
    "print countMentionInTweetFile('tweets_19.txt',searchwords)\n"
   ]
  },
  {
   "cell_type": "code",
   "execution_count": null,
   "metadata": {
    "collapsed": false
   },
   "outputs": [],
   "source": [
    "# Terminate all your running instances\n",
    "server = nc.servers.find(name = serverName)\n",
    "server.delete()\n",
    "print server"
   ]
  },
  {
   "cell_type": "code",
   "execution_count": null,
   "metadata": {
    "collapsed": true
   },
   "outputs": [],
   "source": []
  }
 ],
 "metadata": {
  "kernelspec": {
   "display_name": "Python 2",
   "language": "python",
   "name": "python2"
  },
  "language_info": {
   "codemirror_mode": {
    "name": "ipython",
    "version": 2
   },
   "file_extension": ".py",
   "mimetype": "text/x-python",
   "name": "python",
   "nbconvert_exporter": "python",
   "pygments_lexer": "ipython2",
   "version": "2.7.10"
  }
 },
 "nbformat": 4,
 "nbformat_minor": 0
}
