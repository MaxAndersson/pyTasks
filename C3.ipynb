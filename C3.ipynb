{
 "cells": [
  {
   "cell_type": "code",
   "execution_count": 1,
   "metadata": {
    "collapsed": false
   },
   "outputs": [
    {
     "name": "stdout",
     "output_type": "stream",
     "text": [
      "{'key_name': u'CPOSP_key', 'flavor': <Flavor: m1.medium>, 'name': 'C3Master-7e4db5b0-78eb-11e5-b9c8-68a86d0722f8', 'image': <Image: Ubuntu Server 14.04 LTS (Trusty Tahr)>, 'userdata': '#!/bin/bash\\nsudo apt-get update -y\\nsudo apt-get install git -y\\nsudo apt-get install python-pip -y\\nsudo pip install Flask\\nsudo apt-get install rabbitmq-server -y\\nsudo rabbitmq-plugins enable rabbitmq_management\\nsudo pip install celery\\nsudo pip install flower\\ngit clone https://github.com/MaxAndersson/pyTasks.git\\nsudo flower -A tasks --port=5555 --workdir=$PWD/pyTasks &\\npython pyTasks/app.py\\n'}\n",
      "{'key_name': u'CPOSP_key', 'flavor': <Flavor: m1.medium>, 'name': 'C3Slave-859c2721-78eb-11e5-b562-68a86d0722f8', 'image': <Image: Ubuntu Server 14.04 LTS (Trusty Tahr)>, 'userdata': '#!/bin/bash\\nMASTER_IP=\\'130.238.29.87\\' \\nexport C_FORCE_ROOT=\"true\"\\nsudo apt-get update -y\\nsudo apt-get install git -y\\nsudo apt-get install python-pip -y\\nsudo pip install celery\\nsudo pip install python-swiftclient\\nsudo pip install python-keystoneclient\\nsudo pip install python-novaclient\\ngit clone https://github.com/MaxAndersson/pyTasks.git\\ncelery -A tasks worker -b $MASTER_IP --workdir=$PWD/pyTasks &\\n'}\n",
      "{'key_name': u'CPOSP_key', 'flavor': <Flavor: m1.medium>, 'name': 'C3Slave-88307cb5-78eb-11e5-bf68-68a86d0722f8', 'image': <Image: Ubuntu Server 14.04 LTS (Trusty Tahr)>, 'userdata': '#!/bin/bash\\nMASTER_IP=\\'130.238.29.87\\' \\nexport C_FORCE_ROOT=\"true\"\\nsudo apt-get update -y\\nsudo apt-get install git -y\\nsudo apt-get install python-pip -y\\nsudo pip install celery\\nsudo pip install python-swiftclient\\nsudo pip install python-keystoneclient\\nsudo pip install python-novaclient\\ngit clone https://github.com/MaxAndersson/pyTasks.git\\ncelery -A tasks worker -b $MASTER_IP --workdir=$PWD/pyTasks &\\n'}\n",
      "{'master': <c3_base.C3Master object at 0x104b41890>, 'slaves': [<Server: C3Slave-859c2721-78eb-11e5-b562-68a86d0722f8>, <Server: C3Slave-88307cb5-78eb-11e5-bf68-68a86d0722f8>]}\n"
     ]
    }
   ],
   "source": [
    "from cposp_server import CPOSPServer\n",
    "from c3_base import *\n",
    "CPOSPServer.factory()\n",
    "cluster = boot_cluster(2)\n",
    "print cluster"
   ]
  },
  {
   "cell_type": "code",
   "execution_count": null,
   "metadata": {
    "collapsed": false
   },
   "outputs": [],
   "source": [
    "print cluster['master']._ip"
   ]
  },
  {
   "cell_type": "code",
   "execution_count": null,
   "metadata": {
    "collapsed": false
   },
   "outputs": [],
   "source": [
    "for slave in cluster['slaves']:\n",
    "    slave.delete()\n",
    "cluster['master']._server.delete()"
   ]
  },
  {
   "cell_type": "code",
   "execution_count": null,
   "metadata": {
    "collapsed": true
   },
   "outputs": [],
   "source": []
  }
 ],
 "metadata": {
  "kernelspec": {
   "display_name": "Python 2",
   "language": "python",
   "name": "python2"
  },
  "language_info": {
   "codemirror_mode": {
    "name": "ipython",
    "version": 2
   },
   "file_extension": ".py",
   "mimetype": "text/x-python",
   "name": "python",
   "nbconvert_exporter": "python",
   "pygments_lexer": "ipython2",
   "version": "2.7.10"
  }
 },
 "nbformat": 4,
 "nbformat_minor": 0
}
