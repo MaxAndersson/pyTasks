{
 "cells": [
  {
   "cell_type": "code",
   "execution_count": 8,
   "metadata": {
    "collapsed": false
   },
   "outputs": [
    {
     "name": "stdout",
     "output_type": "stream",
     "text": [
      "{'key_name': u'CPOSP_key', 'flavor': <Flavor: m1.medium>, 'name': 'C3Master-b8f64805-7ca8-11e5-8645-68a86d0722f8', 'image': <Image: C3Master-Image>, 'userdata': '#!/bin/bash\\ngit --git-dir=$PWD/pyTasks/.git  --work-tree=$PWD/pytasks/ pull\\nsudo flower -A tasks --port=5555 --workdir=$PWD/pyTasks &\\npython pyTasks/app.py\\n'}\n",
      "{'key_name': u'CPOSP_key', 'flavor': <Flavor: m1.medium>, 'name': 'C3Slave-c6d21b8a-7ca8-11e5-83c0-68a86d0722f8', 'image': <Image: C3Slave-Image>, 'userdata': '#!/bin/bash\\nMASTER_IP=\\'130.238.29.67\\' \\nexport C_FORCE_ROOT=\"true\"\\ngit --git-dir=$PWD/pyTasks/.git  --work-tree=$PWD/pytasks/ pull \\ncelery -A tasks worker -b $MASTER_IP --workdir=$PWD/pyTasks &\\n'}\n",
      "{'key_name': u'CPOSP_key', 'flavor': <Flavor: m1.medium>, 'name': 'C3Slave-c7ff4e0f-7ca8-11e5-ba84-68a86d0722f8', 'image': <Image: C3Slave-Image>, 'userdata': '#!/bin/bash\\nMASTER_IP=\\'130.238.29.67\\' \\nexport C_FORCE_ROOT=\"true\"\\ngit --git-dir=$PWD/pyTasks/.git  --work-tree=$PWD/pytasks/ pull \\ncelery -A tasks worker -b $MASTER_IP --workdir=$PWD/pyTasks &\\n'}\n",
      "{'key_name': u'CPOSP_key', 'flavor': <Flavor: m1.medium>, 'name': 'C3Slave-c98f4e2e-7ca8-11e5-bc73-68a86d0722f8', 'image': <Image: C3Slave-Image>, 'userdata': '#!/bin/bash\\nMASTER_IP=\\'130.238.29.67\\' \\nexport C_FORCE_ROOT=\"true\"\\ngit --git-dir=$PWD/pyTasks/.git  --work-tree=$PWD/pytasks/ pull \\ncelery -A tasks worker -b $MASTER_IP --workdir=$PWD/pyTasks &\\n'}\n",
      "{'key_name': u'CPOSP_key', 'flavor': <Flavor: m1.medium>, 'name': 'C3Slave-cb169ab8-7ca8-11e5-be47-68a86d0722f8', 'image': <Image: C3Slave-Image>, 'userdata': '#!/bin/bash\\nMASTER_IP=\\'130.238.29.67\\' \\nexport C_FORCE_ROOT=\"true\"\\ngit --git-dir=$PWD/pyTasks/.git  --work-tree=$PWD/pytasks/ pull \\ncelery -A tasks worker -b $MASTER_IP --workdir=$PWD/pyTasks &\\n'}\n",
      "{'key_name': u'CPOSP_key', 'flavor': <Flavor: m1.medium>, 'name': 'C3Slave-cc57960a-7ca8-11e5-adca-68a86d0722f8', 'image': <Image: C3Slave-Image>, 'userdata': '#!/bin/bash\\nMASTER_IP=\\'130.238.29.67\\' \\nexport C_FORCE_ROOT=\"true\"\\ngit --git-dir=$PWD/pyTasks/.git  --work-tree=$PWD/pytasks/ pull \\ncelery -A tasks worker -b $MASTER_IP --workdir=$PWD/pyTasks &\\n'}\n",
      "{'key_name': u'CPOSP_key', 'flavor': <Flavor: m1.medium>, 'name': 'C3Slave-cdb66f14-7ca8-11e5-9826-68a86d0722f8', 'image': <Image: C3Slave-Image>, 'userdata': '#!/bin/bash\\nMASTER_IP=\\'130.238.29.67\\' \\nexport C_FORCE_ROOT=\"true\"\\ngit --git-dir=$PWD/pyTasks/.git  --work-tree=$PWD/pytasks/ pull \\ncelery -A tasks worker -b $MASTER_IP --workdir=$PWD/pyTasks &\\n'}\n"
     ]
    }
   ],
   "source": [
    "from cposp_server import CPOSPServer\n",
    "from c3_base import *\n",
    "CPOSPServer.factory()\n",
    "cluster = boot_cluster(6)"
   ]
  },
  {
   "cell_type": "code",
   "execution_count": 9,
   "metadata": {
    "collapsed": false
   },
   "outputs": [
    {
     "name": "stdout",
     "output_type": "stream",
     "text": [
      "130.238.29.67\n"
     ]
    }
   ],
   "source": [
    "print cluster['master']._ip"
   ]
  },
  {
   "cell_type": "code",
   "execution_count": null,
   "metadata": {
    "collapsed": false
   },
   "outputs": [],
   "source": [
    "for slave in cluster['slaves']:\n",
    "    slave.delete()\n",
    "cluster['master']._server.delete()"
   ]
  },
  {
   "cell_type": "code",
   "execution_count": 10,
   "metadata": {
    "collapsed": false
   },
   "outputs": [
    {
     "name": "stdout",
     "output_type": "stream",
     "text": [
      "Populating the interactive namespace from numpy and matplotlib\n"
     ]
    }
   ],
   "source": [
    "import numpy as np\n",
    "%pylab inline \n",
    "\n",
    "def plotDict(aDict, xlabel = 'X',ylabel = 'Y',title = 'Title'):\n",
    "    barWidth = 0.9\n",
    "    index = numpy.arange(len(aDict))\n",
    "    labels = aDict.keys()\n",
    "    values = [aDict[key] for key in labels]\n",
    "\n",
    "    rects1 = plt.bar(index,\n",
    "                     values,\n",
    "                     barWidth,\n",
    "                     color='r',\n",
    "                     #yerr=stds, # dosen't seem to vary much\n",
    "                     #label=labels\n",
    "                    )\n",
    "\n",
    "    plt.xlabel(xlabel)\n",
    "    plt.ylabel(ylabel)\n",
    "    plt.title(title)\n",
    "    plt.xticks(index + barWidth/2,\n",
    "               labels)\n",
    "    plt.legend()\n",
    "    plt.tight_layout()\n",
    "    plt.show()\n",
    "\n",
    "\n",
    "    return"
   ]
  },
  {
   "cell_type": "code",
   "execution_count": 12,
   "metadata": {
    "collapsed": false
   },
   "outputs": [],
   "source": [
    "def plot_progress(job,host):\n",
    "    flower_adress = '{}:5555'.format(host)\n",
    "    plot_data = {}\n",
    "    for task in job['task_ids']:\n",
    "        task_json = os.popen('curl http://{}/api/task/info/{}'.format(flower_adress,task)).read()\n",
    "        aTask = json.loads(task_json)\n",
    "        (aFile,_) = eval(aTask['args'])\n",
    "        plot_data.update({aFile[len('tweets_'):-len('.txt')] : aTask['runtime']})\n",
    "    plotDict(plot_data, 'Tweet File', 'Time [sec]', 'Time per Tweet File')\n",
    "    return plot_data\n",
    "    \n",
    "def evaluate_job(redirect_adress,host):\n",
    "    json_job = os.popen('curl {}'.format(redirect_adress.strip())).read()\n",
    "    job = json.loads(json_job)\n",
    "    while job['count_finished'] != job['count_deployed']:\n",
    "        time.sleep(10)\n",
    "        json_job = os.popen('curl {}'.format(redirect_adress.strip())).read()\n",
    "        job = json.loads(json_job)\n",
    "        print '{}/{} finished'.format(job['count_finished'],job['count_deployed'])\n",
    "    \n",
    "    data = plot_progress(job,host)\n",
    "    print job\n",
    "    plotDict(job['summary'], 'Pronomen', 'Count', 'Occurences of Pronouns')\n",
    "    return data\n",
    "\n",
    "def evaluate_batch(redirect_adress,adress):\n",
    "   \n",
    "\n",
    "    data = evaluate_job(redirect_adress,adress)\n",
    "\n",
    "    a = os.popen('curl {}:5555/api/workers?status=true'.format(adress)).read()\n",
    "    objs = json.loads(a)\n",
    "    workers = len (objs)\n",
    "    total_time = 0\n",
    "    for key in data.keys():\n",
    "        total_time = total_time + data[key]\n",
    "    \n",
    "    results =  dict(total_time= total_time,\n",
    "                    n_workers=workers,\n",
    "                    time_per_worker = total_time/workers,\n",
    "                    time_per_task=total_time/len(data)\n",
    "                   )\n",
    "    \n",
    "    plotDict(results)\n",
    "    return results"
   ]
  },
  {
   "cell_type": "code",
   "execution_count": 15,
   "metadata": {
    "collapsed": false,
    "scrolled": true
   },
   "outputs": [
    {
     "name": "stdout",
     "output_type": "stream",
     "text": [
      "0/20 finished\n",
      "0/20 finished\n",
      "0/20 finished\n",
      "0/20 finished\n",
      "0/20 finished\n",
      "0/20 finished\n",
      "0/20 finished\n",
      "0/20 finished\n",
      "0/20 finished\n",
      "0/20 finished\n",
      "0/20 finished\n",
      "0/20 finished\n",
      "1/20 finished\n",
      "1/20 finished\n",
      "1/20 finished\n",
      "1/20 finished\n",
      "1/20 finished\n",
      "1/20 finished\n",
      "1/20 finished\n",
      "1/20 finished\n",
      "2/20 finished\n",
      "3/20 finished\n",
      "4/20 finished\n",
      "5/20 finished\n",
      "5/20 finished\n",
      "5/20 finished\n",
      "6/20 finished\n",
      "10/20 finished\n",
      "11/20 finished\n",
      "11/20 finished\n",
      "14/20 finished\n",
      "15/20 finished\n",
      "16/20 finished\n",
      "17/20 finished\n",
      "18/20 finished\n",
      "18/20 finished\n",
      "19/20 finished\n",
      "20/20 finished\n"
     ]
    },
    {
     "data": {
      "image/png": "[encoded data removed]",
      "text/plain": [
       "<matplotlib.figure.Figure at 0x10518f950>"
      ]
     },
     "metadata": {},
     "output_type": "display_data"
    },
    {
     "name": "stdout",
     "output_type": "stream",
     "text": [
      "{u'count_deployed': 20, u'task_ids': [u'687ffe74-568d-46f3-90e6-e3d6c6443584', u'30398a99-a6c1-4050-8d16-32d520d1983b', u'7c39c3c5-1046-4f4d-a657-9c6df9fa9fa6', u'fa2955b4-b78c-4c5a-b448-8b149292b892', u'd815fc7d-b088-449e-80bf-d1efac7b5d5d', u'9ca1dcfa-37a5-403d-842b-5846d878dda9', u'9cbea30d-b4b5-44a0-b995-876e73c3dc82', u'9f3df50d-5c12-4191-a2f1-4e595c42bd5d', u'bd3a23cf-8119-469d-bb84-3f64ac3ccdb8', u'db4f0358-eec8-4e85-ba6e-c74e1b2d995a', u'5298a297-701b-4794-a8bb-2ebc4f4e9adf', u'76b09031-3460-4a5c-96d7-90ed9bf0f5e2', u'87c96e2b-429f-4723-905e-bcec387d4363', u'29ef0564-68d5-4af6-9e09-b5acca5127d6', u'198b64cc-96e2-4686-a88d-1adef45befe6', u'2f5dc4ec-4b42-41c7-acc6-d761bce8d781', u'e498bacb-a343-406a-a89f-45ebf7ee0a8f', u'ec5ce5f3-990c-4ac6-9980-6b24b143b7ee', u'ab545997-1b27-4234-bca0-df2443aa43c2', u'9e42ccef-08cb-440d-96d6-9ee9c77cc679'], u'count_finished': 20, u'id': u'edb2fea4-7ca8-11e5-9a7b-fa163e9955e6', u'summary': {u'han': 758152, u'hon': 414580, u'det': 501641, u'denne': 3675, u'den': 1365824, u'denna': 19758, u'hen': 160025}}\n"
     ]
    },
    {
     "data": {
      "image/png": "[encoded data removed]",
      "text/plain": [
       "<matplotlib.figure.Figure at 0x105113090>"
      ]
     },
     "metadata": {},
     "output_type": "display_data"
    },
    {
     "data": {
      "image/png": "[encoded data removed]",
      "text/plain": [
       "<matplotlib.figure.Figure at 0x1055f8c50>"
      ]
     },
     "metadata": {},
     "output_type": "display_data"
    }
   ],
   "source": [
    "import time\n",
    "import os\n",
    "import json\n",
    "adress = cluster['master']._ip\n",
    "##Triggers Job & Redirect to Job Collector\n",
    "redirect = os.popen('curl -i http://{}:5000/countwords | grep Location'.format(adress)).read()\n",
    "redirect_adress = redirect[len('Location: '):]\n",
    "\n",
    "## Loops until job is finished \n",
    "work_result = evaluate_batch(redirect_adress,adress)"
   ]
  },
  {
   "cell_type": "code",
   "execution_count": 16,
   "metadata": {
    "collapsed": false
   },
   "outputs": [
    {
     "name": "stdout",
     "output_type": "stream",
     "text": [
      "{'time_per_task': 90.26979749394998, 'total_time': 1805.3959498789995, 'time_per_worker': 300.89932497983324, 'n_workers': 6}\n"
     ]
    }
   ],
   "source": [
    "print work_result"
   ]
  },
  {
   "cell_type": "code",
   "execution_count": 7,
   "metadata": {
    "collapsed": false
   },
   "outputs": [
    {
     "name": "stdout",
     "output_type": "stream",
     "text": [
      "4\n",
      "2\n",
      "OrderedDict([('04', 25.360401549512503), ('08', 12.963398075574997), ('12', 7.4369003966874985), ('16', 7.872195404446876)])\n"
     ]
    },
    {
     "name": "stderr",
     "output_type": "stream",
     "text": [
      "/System/Library/Frameworks/Python.framework/Versions/2.7/Extras/lib/python/matplotlib/axes.py:4747: UserWarning: No labeled objects found. Use label='...' kwarg on individual plots.\n",
      "  warnings.warn(\"No labeled objects found. \"\n"
     ]
    },
    {
     "data": {
      "image/png": "[encoded data removed]",
      "text/plain": [
       "<matplotlib.figure.Figure at 0x105120dd0>"
      ]
     },
     "metadata": {},
     "output_type": "display_data"
    }
   ],
   "source": [
    "import collections\n",
    "results  = [\n",
    "            {'time_per_task': 125.95512647115001, 'total_time': 2519.1025294230003, 'time_per_worker': 314.88781617787504, 'n_workers': 8}, #Result of 8 workers\n",
    "            {'time_per_task': 89.24280476024998, 'total_time': 1784.8560952049997, 'time_per_worker': 297.47601586749994, 'n_workers': 6},  #Result of 6 workers\n",
    "            {'time_per_task': 103.70718460459997, 'total_time': 2074.1436920919996, 'time_per_worker': 518.5359230229999, 'n_workers': 4},  #Result of 4 workers\n",
    "            {'time_per_task': 101.44160619805001, 'total_time': 2028.8321239610002, 'time_per_worker': 1014.4160619805001, 'n_workers': 2}  #Result of 2 workers\n",
    "           ]\n",
    "formated = {}\n",
    "for result in results:\n",
    "    if  int(result['n_workers']*2) < 10 :\n",
    "        print result['n_workers']\n",
    "        processing_units = '0' + str(result['n_workers']*2)\n",
    "    else:\n",
    "        processing_units = str(result['n_workers']*2)\n",
    "        \n",
    "    formated.update({'{}'.format(processing_units) : result['time_per_task']/int(processing_units)})\n",
    "\n",
    "print collections.OrderedDict(sorted(formated.items()))\n",
    "plotDict(collections.OrderedDict(sorted(formated.items())), '# processing units', 'Time [sec]' ,'Weak Scaling Effiency: Avrage time per task /  processing units')"
   ]
  },
  {
   "cell_type": "markdown",
   "metadata": {},
   "source": []
  }
 ],
 "metadata": {
  "kernelspec": {
   "display_name": "Python 2",
   "language": "python",
   "name": "python2"
  },
  "language_info": {
   "codemirror_mode": {
    "name": "ipython",
    "version": 2
   },
   "file_extension": ".py",
   "mimetype": "text/x-python",
   "name": "python",
   "nbconvert_exporter": "python",
   "pygments_lexer": "ipython2",
   "version": "2.7.10"
  }
 },
 "nbformat": 4,
 "nbformat_minor": 0
}
